{
 "cells": [
  {
   "cell_type": "code",
   "execution_count": 1,
   "id": "87cd12ad",
   "metadata": {},
   "outputs": [],
   "source": [
    "import numpy as np\n",
    "import pandas as pd\n",
    "\n",
    "from sklearn.model_selection import train_test_split\n",
    "from pandas_profiling import ProfileReport"
   ]
  },
  {
   "cell_type": "code",
   "execution_count": 2,
   "id": "df1da001",
   "metadata": {},
   "outputs": [],
   "source": [
    "data_train = pd.read_csv(\"train_month_3_with_target.csv\")\n",
    "data_train_1 = pd.read_csv(\"train_month_1.csv\")\n",
    "data_train_2 = pd.read_csv(\"train_month_2.csv\")\n",
    "train_1 = pd.merge(data_train, data_train_1, on=\"client_id\", suffixes=(\"\", \"_1\"))\n",
    "train=pd.merge(train_1, data_train_2, on=\"client_id\", suffixes=(\"\", \"_2\"))\n"
   ]
  },
  {
   "cell_type": "code",
   "execution_count": 3,
   "id": "1f963a8f",
   "metadata": {},
   "outputs": [],
   "source": [
    "data_test = pd.read_csv(\"test_month_3.csv\")\n",
    "data_test_1 = pd.read_csv(\"test_month_1.csv\")\n",
    "data_test_2 = pd.read_csv(\"test_month_2.csv\")\n",
    "test_1 = pd.merge(data_test, data_test_1, on=\"client_id\", suffixes=(\"\", \"_1\"))\n",
    "test=pd.merge(test_1, data_test_2, on=\"client_id\", suffixes=(\"\", \"_2\"))"
   ]
  },
  {
   "cell_type": "code",
   "execution_count": 4,
   "id": "c116b4a4",
   "metadata": {},
   "outputs": [],
   "source": [
    "# Split the data in the training (70%) and testing set (30%)\n",
    "x_train, x_test, y_train, y_test = train_test_split(train.drop(columns=\"target\"), train['target'], test_size = .3, random_state = 10)"
   ]
  },
  {
   "cell_type": "code",
   "execution_count": 5,
   "id": "d266e91e",
   "metadata": {},
   "outputs": [
    {
     "data": {
      "text/plain": [
       "18"
      ]
     },
     "execution_count": 5,
     "metadata": {},
     "output_type": "execute_result"
    }
   ],
   "source": [
    "sum(np.sum(train.isna(), axis=0)+np.sum(test.isna(), axis=0)>0)\n",
    "#there is no problem of appearning NAs in other sets"
   ]
  },
  {
   "cell_type": "code",
   "execution_count": null,
   "id": "b04b24ef",
   "metadata": {},
   "outputs": [],
   "source": [
    "# Find highly correlated variables. We could exclude those variables once we start building the model or we can use\n",
    "#LASSO or elastic net so that these ones are removed, we will see\n",
    "threshold = 1\n",
    "\n",
    "def high_cor_function(df):\n",
    "    cor = df.corr()\n",
    "    corrm = np.corrcoef(df.transpose())\n",
    "    corr = corrm - np.diagflat(corrm.diagonal())\n",
    "    print(\"max corr:\",corr.max(), \", min corr: \", corr.min())\n",
    "    c1 = cor.stack().sort_values(ascending=False).drop_duplicates()\n",
    "    high_cor = c1[c1.values!=1]    \n",
    "    thresh = threshold \n",
    "    display(high_cor[high_cor>thresh])\n",
    "  \n",
    "high_cor_function(x_train.select_dtypes(exclude=['object']))"
   ]
  },
  {
   "cell_type": "code",
   "execution_count": null,
   "id": "b9a8d523",
   "metadata": {},
   "outputs": [],
   "source": [
    "profile = ProfileReport(data_train, title=\"Profiling Report\")"
   ]
  },
  {
   "cell_type": "code",
   "execution_count": null,
   "id": "c36f0fd6",
   "metadata": {},
   "outputs": [],
   "source": [
    "profile.to_file(\"Profiling.html\")"
   ]
  },
  {
   "cell_type": "code",
   "execution_count": null,
   "id": "feb78407",
   "metadata": {},
   "outputs": [],
   "source": [
    "# homebanking_active and has_homebanking are closely related \n",
    "# has 5 types of insurances \n",
    "# has 2 types of  personal loans \n",
    "# has 5 types of accounts (current, savings, pension, 2 starter ones)\n",
    "# balances of 5 types of insurances \n",
    "# outstanding balances of 2 types of  personal loans \n",
    "# balances on 5 types of accounts (current, savings, pension, 2 starter ones)\n",
    "# number of branches /and areas visited in the past month\n",
    "# 2 types customer since (2 NAs)\n",
    "# gender/ birthday / occupation (coded) (NAs)/ self employed\n",
    "# education level (NAs)/ children (NAs) / relationship (NAs)\n"
   ]
  },
  {
   "cell_type": "code",
   "execution_count": null,
   "id": "f6355487",
   "metadata": {},
   "outputs": [],
   "source": [
    "# Note that in the training set we are only given the datapoints with the stable account for (-3,+3) \n",
    "# but the test set contains all types of data"
   ]
  },
  {
   "cell_type": "code",
   "execution_count": null,
   "id": "ec46f7ba",
   "metadata": {
    "scrolled": true
   },
   "outputs": [],
   "source": [
    "print(x_train.columns)"
   ]
  },
  {
   "cell_type": "code",
   "execution_count": null,
   "id": "40c31d09",
   "metadata": {},
   "outputs": [],
   "source": [
    "from itertools import combinations\n",
    "\n",
    "[(i, j) for i,j in combinations(x_train, 2) if x_train[i].equals(x_train[j])]"
   ]
  },
  {
   "cell_type": "code",
   "execution_count": 6,
   "id": "eb1db2a6",
   "metadata": {},
   "outputs": [],
   "source": [
    "def cleaning(df):\n",
    "    df.drop(columns=[\"customer_since_all_1\", \"customer_since_all_2\", \n",
    "                        \"customer_since_bank_1\", \"customer_since_bank_2\", \n",
    "                        \"customer_gender_1\", \"customer_gender_2\",\n",
    "                        \"customer_birth_date_1\", \"customer_birth_date_2\", \n",
    "                        \"customer_postal_code_1\", \"customer_postal_code_2\", \n",
    "                        \"customer_occupation_code_1\", \"customer_occupation_code_2\",\n",
    "                        \"customer_education_1\", \"customer_education_2\", \n",
    "                       ], inplace=True)"
   ]
  },
  {
   "cell_type": "code",
   "execution_count": 7,
   "id": "d4abef0d",
   "metadata": {},
   "outputs": [],
   "source": [
    "cleaning(x_train)"
   ]
  },
  {
   "cell_type": "code",
   "execution_count": null,
   "id": "e39783f1",
   "metadata": {},
   "outputs": [],
   "source": [
    "print(x_train.shape)\n",
    "print(x_train.columns)"
   ]
  },
  {
   "cell_type": "code",
   "execution_count": 8,
   "id": "2d20dff3",
   "metadata": {},
   "outputs": [],
   "source": [
    "for column in [\"customer_since_all\", \"customer_since_bank\", \"customer_birth_date\"]:\n",
    "    x_train[column]=x_train[column]+\"-01\"\n",
    "    x_train[column]=pd.to_datetime(x_train[column], infer_datetime_format=True)"
   ]
  },
  {
   "cell_type": "code",
   "execution_count": 10,
   "id": "68c52d54",
   "metadata": {},
   "outputs": [],
   "source": [
    "from datetime import date\n",
    "from dateutil.relativedelta import relativedelta\n",
    "t=x_train.index\n",
    "l=x_train.shape[0]\n",
    "for column in [\"customer_since_all\", \"customer_since_bank\", \"customer_birth_date\"]:\n",
    "    a={'today':date.today()}\n",
    "    x=pd.DataFrame(a, index=[0])\n",
    "    y=pd.concat([x]*l, ignore_index=True)\n",
    "    y.index=t\n",
    "    z=pd.to_datetime(y[\"today\"], infer_datetime_format=True)\n",
    "    x_train[column]= (z-x_train[column])/np.timedelta64(1,'M')\n",
    "x_train[\"customer_birth_date\"]=x_train[\"customer_birth_date\"]/12"
   ]
  },
  {
   "cell_type": "code",
   "execution_count": 22,
   "id": "43bb81ff",
   "metadata": {},
   "outputs": [
    {
     "data": {
      "text/plain": [
       "<matplotlib.collections.PathCollection at 0x7ff35480ae20>"
      ]
     },
     "execution_count": 22,
     "metadata": {},
     "output_type": "execute_result"
    },
    {
     "data": {
      "image/png": "[encoded data removed]",
      "text/plain": [
       "<Figure size 432x288 with 1 Axes>"
      ]
     },
     "metadata": {
      "needs_background": "light"
     },
     "output_type": "display_data"
    }
   ],
   "source": [
    "import matplotlib.pyplot as plt\n",
    "%matplotlib inline \n",
    "plt.scatter(x_train[\"customer_birth_date\"], y_train)"
   ]
  },
  {
   "cell_type": "code",
   "execution_count": null,
   "id": "60b40fc0",
   "metadata": {},
   "outputs": [],
   "source": [
    "#for relationship lets take a third category (so these will be nominal)\n",
    "#for children take the mode in the class\n",
    "#for education take the mean\n",
    "#for occupation code take the mode in the class\n",
    "# for both customers take the mean in the class"
   ]
  },
  {
   "cell_type": "code",
   "execution_count": 32,
   "id": "12253a40",
   "metadata": {},
   "outputs": [],
   "source": [
    "for column in [\"customer_since_all\", \"customer_since_bank\", \n",
    "               \"customer_occupation_code\", \"customer_education\", \n",
    "               \"customer_children\", \"customer_relationship\"]:\n",
    "    x_train[column+\"_is_na\"]=x_train[column].isna().apply(lambda x: 0 if x==0 else 1)"
   ]
  },
  {
   "cell_type": "code",
   "execution_count": null,
   "id": "69180b8e",
   "metadata": {},
   "outputs": [],
   "source": []
  }
 ],
 "metadata": {
  "kernelspec": {
   "display_name": "Python 3 (ipykernel)",
   "language": "python",
   "name": "python3"
  },
  "language_info": {
   "codemirror_mode": {
    "name": "ipython",
    "version": 3
   },
   "file_extension": ".py",
   "mimetype": "text/x-python",
   "name": "python",
   "nbconvert_exporter": "python",
   "pygments_lexer": "ipython3",
   "version": "3.9.7"
  }
 },
 "nbformat": 4,
 "nbformat_minor": 5
}
