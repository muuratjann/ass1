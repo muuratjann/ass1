{
 "cells": [
  {
   "cell_type": "code",
   "execution_count": 98,
   "id": "87cd12ad",
   "metadata": {},
   "outputs": [],
   "source": [
    "import numpy as np\n",
    "import pandas as pd\n",
    "\n",
    "from sklearn.model_selection import train_test_split\n",
    "from pandas_profiling import ProfileReport"
   ]
  },
  {
   "cell_type": "code",
   "execution_count": 99,
   "id": "df1da001",
   "metadata": {},
   "outputs": [],
   "source": [
    "data_train = pd.read_csv(\"train_month_3_with_target.csv\")\n",
    "data_train_1 = pd.read_csv(\"train_month_1.csv\")\n",
    "data_train_2 = pd.read_csv(\"train_month_2.csv\")\n",
    "train_1 = pd.merge(data_train, data_train_1, on=\"client_id\", suffixes=(\"\", \"_1\"))\n",
    "train=pd.merge(train_1, data_train_2, on=\"client_id\", suffixes=(\"\", \"_2\"))\n"
   ]
  },
  {
   "cell_type": "code",
   "execution_count": 100,
   "id": "1f963a8f",
   "metadata": {},
   "outputs": [],
   "source": [
    "data_test = pd.read_csv(\"test_month_3.csv\")\n",
    "data_test_1 = pd.read_csv(\"test_month_1.csv\")\n",
    "data_test_2 = pd.read_csv(\"test_month_2.csv\")\n",
    "test_1 = pd.merge(data_test, data_test_1, on=\"client_id\", suffixes=(\"\", \"_1\"))\n",
    "test=pd.merge(test_1, data_test_2, on=\"client_id\", suffixes=(\"\", \"_2\"))"
   ]
  },
  {
   "cell_type": "code",
   "execution_count": 101,
   "id": "c116b4a4",
   "metadata": {},
   "outputs": [],
   "source": [
    "# Split the data in the training (70%) and testing set (30%)\n",
    "x_train, x_test, y_train, y_test = train_test_split(train.drop(columns=\"target\"), train['target'], test_size = .3, random_state = 10)"
   ]
  },
  {
   "cell_type": "code",
   "execution_count": 102,
   "id": "d266e91e",
   "metadata": {},
   "outputs": [
    {
     "data": {
      "text/plain": [
       "18"
      ]
     },
     "execution_count": 102,
     "metadata": {},
     "output_type": "execute_result"
    }
   ],
   "source": [
    "sum(np.sum(train.isna(), axis=0)+np.sum(test.isna(), axis=0)>0)\n",
    "#there is no problem of appearning NAs in other sets"
   ]
  },
  {
   "cell_type": "code",
   "execution_count": 83,
   "id": "b04b24ef",
   "metadata": {},
   "outputs": [
    {
     "name": "stdout",
     "output_type": "stream",
     "text": [
      "max corr: nan , min corr:  nan\n"
     ]
    },
    {
     "data": {
      "text/plain": [
       "Series([], dtype: float64)"
      ]
     },
     "metadata": {},
     "output_type": "display_data"
    }
   ],
   "source": [
    "# Find highly correlated variables. We could exclude those variables once we start building the model or we can use\n",
    "#LASSO or elastic net so that these ones are removed, we will see\n",
    "threshold = 1\n",
    "\n",
    "def high_cor_function(df):\n",
    "    cor = df.corr()\n",
    "    corrm = np.corrcoef(df.transpose())\n",
    "    corr = corrm - np.diagflat(corrm.diagonal())\n",
    "    print(\"max corr:\",corr.max(), \", min corr: \", corr.min())\n",
    "    c1 = cor.stack().sort_values(ascending=False).drop_duplicates()\n",
    "    high_cor = c1[c1.values!=1]    \n",
    "    thresh = threshold \n",
    "    display(high_cor[high_cor>thresh])\n",
    "  \n",
    "high_cor_function(x_train.select_dtypes(exclude=['object']))"
   ]
  },
  {
   "cell_type": "code",
   "execution_count": 79,
   "id": "b9a8d523",
   "metadata": {},
   "outputs": [],
   "source": [
    "profile = ProfileReport(data_train, title=\"Profiling Report\")"
   ]
  },
  {
   "cell_type": "code",
   "execution_count": 80,
   "id": "c36f0fd6",
   "metadata": {},
   "outputs": [
    {
     "data": {
      "application/vnd.jupyter.widget-view+json": {
       "model_id": "925866f19c684160b39fdeb11d140fae",
       "version_major": 2,
       "version_minor": 0
      },
      "text/plain": [
       "Summarize dataset:   0%|          | 0/5 [00:00<?, ?it/s]"
      ]
     },
     "metadata": {},
     "output_type": "display_data"
    },
    {
     "data": {
      "application/vnd.jupyter.widget-view+json": {
       "model_id": "4c8a55e47325452aa0dec02cf98f77b2",
       "version_major": 2,
       "version_minor": 0
      },
      "text/plain": [
       "Generate report structure:   0%|          | 0/1 [00:00<?, ?it/s]"
      ]
     },
     "metadata": {},
     "output_type": "display_data"
    },
    {
     "data": {
      "application/vnd.jupyter.widget-view+json": {
       "model_id": "ed97e1d522a840019ac2398aa600d8e7",
       "version_major": 2,
       "version_minor": 0
      },
      "text/plain": [
       "Render HTML:   0%|          | 0/1 [00:00<?, ?it/s]"
      ]
     },
     "metadata": {},
     "output_type": "display_data"
    },
    {
     "data": {
      "application/vnd.jupyter.widget-view+json": {
       "model_id": "4a513070a1854c38bd583b66efdd9db3",
       "version_major": 2,
       "version_minor": 0
      },
      "text/plain": [
       "Export report to file:   0%|          | 0/1 [00:00<?, ?it/s]"
      ]
     },
     "metadata": {},
     "output_type": "display_data"
    }
   ],
   "source": [
    "profile.to_file(\"Profiling.html\")"
   ]
  },
  {
   "cell_type": "code",
   "execution_count": 11,
   "id": "feb78407",
   "metadata": {},
   "outputs": [],
   "source": [
    "# homebanking_active and has_homebanking are closely related \n",
    "# has 5 types of insurances \n",
    "# has 2 types of  personal loans \n",
    "# has 5 types of accounts (current, savings, pension, 2 starter ones)\n",
    "# balances of 5 types of insurances \n",
    "# outstanding balances of 2 types of  personal loans \n",
    "# balances on 5 types of accounts (current, savings, pension, 2 starter ones)\n",
    "# number of branches /and areas visited in the past month\n",
    "# 2 types customer since (2 NAs)\n",
    "# gender/ birthday / occupation (coded) (NAs)/ self employed\n",
    "# education level (NAs)/ children (NAs) / relationship (NAs)\n"
   ]
  },
  {
   "cell_type": "code",
   "execution_count": 13,
   "id": "f6355487",
   "metadata": {},
   "outputs": [],
   "source": [
    "# Note that in the training set we are only given the datapoints with the stable account for (-3,+3) \n",
    "# but the test set contains all types of data"
   ]
  },
  {
   "cell_type": "code",
   "execution_count": 103,
   "id": "ec46f7ba",
   "metadata": {
    "scrolled": true
   },
   "outputs": [
    {
     "name": "stdout",
     "output_type": "stream",
     "text": [
      "Index(['client_id', 'homebanking_active', 'has_homebanking',\n",
      "       'has_insurance_21', 'has_insurance_23', 'has_life_insurance_fixed_cap',\n",
      "       'has_life_insurance_decreasing_cap', 'has_fire_car_other_insurance',\n",
      "       'has_personal_loan', 'has_mortgage_loan',\n",
      "       ...\n",
      "       'customer_since_all_2', 'customer_since_bank_2', 'customer_gender_2',\n",
      "       'customer_birth_date_2', 'customer_postal_code_2',\n",
      "       'customer_occupation_code_2', 'customer_self_employed_2',\n",
      "       'customer_education_2', 'customer_children_2',\n",
      "       'customer_relationship_2'],\n",
      "      dtype='object', length=115)\n"
     ]
    }
   ],
   "source": [
    "print(x_train.columns)"
   ]
  },
  {
   "cell_type": "code",
   "execution_count": 104,
   "id": "40c31d09",
   "metadata": {},
   "outputs": [
    {
     "data": {
      "text/plain": [
       "[('customer_since_all', 'customer_since_all_1'),\n",
       " ('customer_since_all', 'customer_since_all_2'),\n",
       " ('customer_since_bank', 'customer_since_bank_1'),\n",
       " ('customer_since_bank', 'customer_since_bank_2'),\n",
       " ('customer_gender', 'customer_gender_1'),\n",
       " ('customer_gender', 'customer_gender_2'),\n",
       " ('customer_birth_date', 'customer_birth_date_1'),\n",
       " ('customer_birth_date', 'customer_birth_date_2'),\n",
       " ('customer_postal_code', 'customer_postal_code_1'),\n",
       " ('customer_postal_code', 'customer_postal_code_2'),\n",
       " ('customer_occupation_code', 'customer_occupation_code_1'),\n",
       " ('customer_occupation_code', 'customer_occupation_code_2'),\n",
       " ('customer_education', 'customer_education_1'),\n",
       " ('customer_education', 'customer_education_2'),\n",
       " ('has_savings_account_starter_1', 'has_savings_account_starter_2'),\n",
       " ('customer_since_all_1', 'customer_since_all_2'),\n",
       " ('customer_since_bank_1', 'customer_since_bank_2'),\n",
       " ('customer_gender_1', 'customer_gender_2'),\n",
       " ('customer_birth_date_1', 'customer_birth_date_2'),\n",
       " ('customer_postal_code_1', 'customer_postal_code_2'),\n",
       " ('customer_occupation_code_1', 'customer_occupation_code_2'),\n",
       " ('customer_education_1', 'customer_education_2')]"
      ]
     },
     "execution_count": 104,
     "metadata": {},
     "output_type": "execute_result"
    }
   ],
   "source": [
    "from itertools import combinations\n",
    "\n",
    "[(i, j) for i,j in combinations(x_train, 2) if x_train[i].equals(x_train[j])]"
   ]
  },
  {
   "cell_type": "code",
   "execution_count": 105,
   "id": "eb1db2a6",
   "metadata": {},
   "outputs": [],
   "source": [
    "def cleaning(df):\n",
    "    df.drop(columns=[\"customer_since_all_1\", \"customer_since_all_2\", \n",
    "                        \"customer_since_bank_1\", \"customer_since_bank_2\", \n",
    "                        \"customer_gender_1\", \"customer_gender_2\",\n",
    "                        \"customer_birth_date_1\", \"customer_birth_date_2\", \n",
    "                        \"customer_postal_code_1\", \"customer_postal_code_2\", \n",
    "                        \"customer_occupation_code_1\", \"customer_occupation_code_2\",\n",
    "                        \"customer_education_1\", \"customer_education_2\", \n",
    "                       ], inplace=True)"
   ]
  },
  {
   "cell_type": "code",
   "execution_count": 106,
   "id": "d4abef0d",
   "metadata": {},
   "outputs": [],
   "source": [
    "cleaning(x_train)"
   ]
  },
  {
   "cell_type": "code",
   "execution_count": 107,
   "id": "e39783f1",
   "metadata": {},
   "outputs": [
    {
     "name": "stdout",
     "output_type": "stream",
     "text": [
      "(44587, 101)\n"
     ]
    }
   ],
   "source": [
    "print(x_train.shape)"
   ]
  },
  {
   "cell_type": "code",
   "execution_count": null,
   "id": "2d20dff3",
   "metadata": {},
   "outputs": [],
   "source": []
  }
 ],
 "metadata": {
  "kernelspec": {
   "display_name": "Python 3 (ipykernel)",
   "language": "python",
   "name": "python3"
  },
  "language_info": {
   "codemirror_mode": {
    "name": "ipython",
    "version": 3
   },
   "file_extension": ".py",
   "mimetype": "text/x-python",
   "name": "python",
   "nbconvert_exporter": "python",
   "pygments_lexer": "ipython3",
   "version": "3.9.7"
  }
 },
 "nbformat": 4,
 "nbformat_minor": 5
}
